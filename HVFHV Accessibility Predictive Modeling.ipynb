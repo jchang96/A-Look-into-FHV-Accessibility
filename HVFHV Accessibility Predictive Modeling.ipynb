{
 "cells": [
  {
   "cell_type": "code",
   "execution_count": 1,
   "metadata": {},
   "outputs": [],
   "source": [
    "import pandas as pd\n",
    "import numpy as np\n",
    "from sklearn.model_selection import train_test_split\n",
    "from sklearn import metrics\n",
    "from sklearn.linear_model import LinearRegression\n",
    "from sklearn.tree import DecisionTreeRegressor\n",
    "from sklearn.ensemble import RandomForestRegressor \n",
    "import matplotlib.pyplot as plt\n",
    "%matplotlib inline"
   ]
  },
  {
   "cell_type": "code",
   "execution_count": 2,
   "metadata": {},
   "outputs": [
    {
     "name": "stderr",
     "output_type": "stream",
     "text": [
      "C:\\Users\\changje\\AppData\\Local\\Continuum\\anaconda3\\lib\\site-packages\\IPython\\core\\interactiveshell.py:3057: DtypeWarning: Columns (2,3,4,7,9,10,13,14,15,16,17,19,20,21,22,33,48) have mixed types. Specify dtype option on import or set low_memory=False.\n",
      "  interactivity=interactivity, compiler=compiler, result=result)\n"
     ]
    }
   ],
   "source": [
    "# load data\n",
    "df = pd.read_csv(\"H:/FHV Accessibility/Research Projects/A Look into High Volume For-Hire Vehicles Accessibility/Data/fhv_wav_2019_run-2019_10_08_.csv\")"
   ]
  },
  {
   "cell_type": "code",
   "execution_count": 3,
   "metadata": {},
   "outputs": [
    {
     "data": {
      "text/plain": [
       "Unnamed: 0                         0\n",
       "TripId                        602607\n",
       "Ride_id                        14450\n",
       "Route_id                      546962\n",
       "Hour_id                       534026\n",
       "Dispatching_base_num               0\n",
       "Origination_Base_number       138686\n",
       "HVFHV_License_num              14450\n",
       "Pickup_DateTime                    0\n",
       "on_scene_DateTime             141176\n",
       "trip_Request_DateTime          15733\n",
       "TLC_drivers_License_number         3\n",
       "License_plate                      0\n",
       "Affiliated_base_number        589418\n",
       "Pickup_location_type          590194\n",
       "Pickup_location_name          590077\n",
       "Pickup_longitude                   0\n",
       "Pickup_latitude                    0\n",
       "DropOff_datetime                   0\n",
       "Dropoff_location_type         590194\n",
       "Dropoff_location_name         590094\n",
       "Dropoff_longitude                  0\n",
       "Dropoff_latitude                   0\n",
       "trip_miles                     14450\n",
       "trip_time_in_secs              14450\n",
       "base_passenger_fare            14450\n",
       "tolls                          14450\n",
       "Black_car_fund                 14450\n",
       "sales_tax                      14450\n",
       "congestion_surcharge           14874\n",
       "tips                           14450\n",
       "driver_pay                     14450\n",
       "number_passenger               58415\n",
       "congestion_zone_Flag          602391\n",
       "Shared_Request_Flag            12973\n",
       "Shared_Match_Flag              12976\n",
       "access_a_ride_Flag             12976\n",
       "WAV_Request_Flag               12976\n",
       "Oct_time                       14450\n",
       "Oct_miles                      14450\n",
       "DateTimeID                         0\n",
       "PUlocationID                       0\n",
       "DOlocationID                       0\n",
       "SR_Flag                       603868\n",
       "SSR_Flag                      603868\n",
       "SR_TripID                     603868\n",
       "TR_Flag                       603679\n",
       "FileID                        602607\n",
       "LoadDateTime                  589418\n",
       "dtype: int64"
      ]
     },
     "execution_count": 3,
     "metadata": {},
     "output_type": "execute_result"
    }
   ],
   "source": [
    "# Convert long and lat values to numeric\n",
    "df['Pickup_longitude'] = pd.to_numeric(df['Pickup_longitude'], errors='coerce')\n",
    "df['Pickup_latitude'] = pd.to_numeric(df['Pickup_latitude'], errors='coerce')\n",
    "\n",
    "# Drop nulls\n",
    "df.dropna(subset=['Pickup_longitude'], inplace=True)\n",
    "df.dropna(subset=['Pickup_latitude'], inplace=True)\n",
    "df.dropna(subset=['Dropoff_longitude'], inplace=True)\n",
    "df.dropna(subset=['Dropoff_latitude'], inplace=True)\n",
    "df.dropna(subset=['PUlocationID'], inplace=True)\n",
    "df.dropna(subset=['DOlocationID'], inplace=True)\n",
    "df.dropna(subset=['DateTimeID'], inplace=True)\n",
    "\n",
    "# Check for nulls\n",
    "df.apply(lambda x: x.isnull().sum())"
   ]
  },
  {
   "cell_type": "code",
   "execution_count": 4,
   "metadata": {},
   "outputs": [],
   "source": [
    "# Remove coordinate outliers\n",
    "df = df[df['Pickup_longitude'] <= -73.75]\n",
    "df = df[df['Pickup_longitude'] >= -74.03]\n",
    "df = df[df['Pickup_latitude'] <= 40.85]\n",
    "df = df[df['Pickup_latitude'] >= 40.63]"
   ]
  },
  {
   "cell_type": "code",
   "execution_count": 5,
   "metadata": {},
   "outputs": [
    {
     "name": "stdout",
     "output_type": "stream",
     "text": [
      "Shape of df: (535042, 49)\n"
     ]
    }
   ],
   "source": [
    "print('Shape of df:', df.shape)"
   ]
  },
  {
   "cell_type": "code",
   "execution_count": 6,
   "metadata": {},
   "outputs": [
    {
     "name": "stdout",
     "output_type": "stream",
     "text": [
      "Shape of x_train: (374529, 5)\n",
      "Shape of y_train: (374529, 2)\n",
      "Shape of x_test: (160513, 5)\n",
      "Shape of y_test: (160513, 2)\n",
      "Shape of features: (535042, 5)\n",
      "Shape of labels: (535042, 2)\n"
     ]
    }
   ],
   "source": [
    "# Split data into features (x) and labels (y)\n",
    "x = df[['Dropoff_longitude','Dropoff_latitude','DateTimeID','PUlocationID','DOlocationID']]\n",
    "y = df[['Pickup_longitude','Pickup_latitude']]\n",
    "\n",
    "x_train, x_test, y_train, y_test = train_test_split(x, y, train_size=0.70,test_size=0.30, random_state=0)\n",
    "\n",
    "print ('Shape of x_train:', x_train.shape)\n",
    "print ('Shape of y_train:', y_train.shape)\n",
    "print('Shape of x_test:', x_test.shape)\n",
    "print('Shape of y_test:', y_test.shape)\n",
    "print('Shape of features:', x.shape)\n",
    "print('Shape of labels:', y.shape)"
   ]
  },
  {
   "cell_type": "markdown",
   "metadata": {},
   "source": [
    "## Predictive Modeling\n",
    "\n",
    "- **R-squared**: measures the strength of the relationship between the regression model and the dependent variable on a 0-100% scale. Usually, *the larger the $R^2$, the better the model fits the observations*.\n",
    "\n",
    "\n",
    "- **Mean Absolute Error (MAE)**: measures the average magnitude of the errors in a set of predictions, without considering their direction on a scale from 0 to $\\infty$. *Smaller values are better*. \n",
    "\n",
    "\n",
    "- **Mean Squared Error (MSE)**: measures how close a fitted line is to the data points. The squaring is for prevent negative values to cancel positive values. *The smaller the MSE, the closer the fit is to the data*. \n",
    "\n",
    "\n",
    "- **Root Mean Squared Error (RMSE)**: measures the average magnitude of the error on a scale from 0 to $\\infty$. It's the square root of the average of squared differences between prediction and actual observations. RMSE is more appropriate for large errors. *Smaller values are better*."
   ]
  },
  {
   "cell_type": "markdown",
   "metadata": {},
   "source": [
    "### Linear Regression"
   ]
  },
  {
   "cell_type": "code",
   "execution_count": 7,
   "metadata": {},
   "outputs": [
    {
     "name": "stdout",
     "output_type": "stream",
     "text": [
      "LinearRegression(copy_X=True, fit_intercept=True, n_jobs=None, normalize=False)\n",
      "\n",
      "Linear Regression Performance Metrics\n",
      "R^2 = -1725182921755.5725\n",
      "MAE = 151.18017269231623\n",
      "MSE = 7037677594.799964\n",
      "RMSE = 83890.8671715817\n"
     ]
    }
   ],
   "source": [
    "# instantiate model object\n",
    "lreg = LinearRegression()\n",
    "\n",
    "# fit on training data\n",
    "lreg.fit(x_train, y_train)\n",
    "print(lreg)\n",
    "\n",
    "# predict \n",
    "lreg_pred = lreg.predict(x_test)\n",
    "\n",
    "# score it\n",
    "r_squared_lreg = metrics.explained_variance_score(y_test,lreg_pred)\n",
    "mae_lreg = metrics.mean_absolute_error(y_test,lreg_pred)\n",
    "mse_lreg = metrics.mean_squared_error(y_test,lreg_pred)\n",
    "rmse_lreg = np.sqrt(metrics.mean_squared_error(y_test,lreg_pred))\n",
    "\n",
    "print('\\nLinear Regression Performance Metrics')\n",
    "print('R^2 =', r_squared_lreg)\n",
    "print('MAE =', mae_lreg)\n",
    "print('MSE =', mse_lreg)\n",
    "print('RMSE =', rmse_lreg)"
   ]
  },
  {
   "cell_type": "markdown",
   "metadata": {},
   "source": [
    "### Decision Tree"
   ]
  },
  {
   "cell_type": "code",
   "execution_count": 8,
   "metadata": {},
   "outputs": [
    {
     "name": "stdout",
     "output_type": "stream",
     "text": [
      "DecisionTreeRegressor(criterion='mse', max_depth=None, max_features=None,\n",
      "                      max_leaf_nodes=None, min_impurity_decrease=0.0,\n",
      "                      min_impurity_split=None, min_samples_leaf=1,\n",
      "                      min_samples_split=2, min_weight_fraction_leaf=0.0,\n",
      "                      presort=False, random_state=None, splitter='best')\n",
      "\n",
      "Decision Tree Performance Metrics\n",
      "R^2 = 0.9783412560600652\n",
      "MAE = 0.005014661279170687\n",
      "MSE = 6.970696078697816e-05\n",
      "RMSE = 0.008349069456351298\n"
     ]
    }
   ],
   "source": [
    "# instantiate model object\n",
    "dtree = DecisionTreeRegressor()\n",
    "\n",
    "# fit on training data\n",
    "dtree.fit(x_train, y_train)\n",
    "print(dtree)\n",
    "\n",
    "# predict \n",
    "dtree_pred = dtree.predict(x_test)\n",
    "\n",
    "# score it\n",
    "r_squared_dtree = metrics.explained_variance_score(y_test,dtree_pred)\n",
    "mae_dtree = metrics.mean_absolute_error(y_test,dtree_pred)\n",
    "mse_dtree = metrics.mean_squared_error(y_test,dtree_pred)\n",
    "rmse_dtree = np.sqrt(metrics.mean_squared_error(y_test,dtree_pred))\n",
    "\n",
    "print('\\nDecision Tree Performance Metrics')\n",
    "print('R^2 =', r_squared_dtree)\n",
    "print('MAE =', mae_dtree)\n",
    "print('MSE =', mse_dtree)\n",
    "print('RMSE =', rmse_dtree)"
   ]
  },
  {
   "cell_type": "markdown",
   "metadata": {},
   "source": [
    "### Random Forest"
   ]
  },
  {
   "cell_type": "code",
   "execution_count": 9,
   "metadata": {},
   "outputs": [
    {
     "name": "stdout",
     "output_type": "stream",
     "text": [
      "RandomForestRegressor(bootstrap=True, criterion='mse', max_depth=None,\n",
      "                      max_features='auto', max_leaf_nodes=None,\n",
      "                      min_impurity_decrease=0.0, min_impurity_split=None,\n",
      "                      min_samples_leaf=1, min_samples_split=2,\n",
      "                      min_weight_fraction_leaf=0.0, n_estimators=20, n_jobs=-1,\n",
      "                      oob_score=False, random_state=None, verbose=0,\n",
      "                      warm_start=False)\n",
      "\n",
      "Random Forest Performance Metrics\n",
      "R^2 = 0.9855801165208162\n",
      "MAE = 0.004130247457631441\n",
      "MSE = 4.644307983759892e-05\n",
      "RMSE = 0.006814915981697715\n"
     ]
    }
   ],
   "source": [
    "# instantiate model object\n",
    "rforest = RandomForestRegressor(n_estimators = 20, n_jobs = -1)\n",
    "\n",
    "# fit on training data\n",
    "rforest.fit(x_train, y_train)\n",
    "print(rforest)\n",
    "\n",
    "# predict \n",
    "rforest_pred = rforest.predict(x_test)\n",
    "\n",
    "# score it\n",
    "r_squared_rforest = metrics.explained_variance_score(y_test,rforest_pred)\n",
    "mae_rforest = metrics.mean_absolute_error(y_test,rforest_pred)\n",
    "mse_rforest = metrics.mean_squared_error(y_test,rforest_pred)\n",
    "rmse_rforest = np.sqrt(metrics.mean_squared_error(y_test,rforest_pred))\n",
    "\n",
    "print('\\nRandom Forest Performance Metrics')\n",
    "print('R^2 =', r_squared_rforest)\n",
    "print('MAE =', mae_rforest)\n",
    "print('MSE =', mse_rforest)\n",
    "print('RMSE =', rmse_rforest)"
   ]
  },
  {
   "cell_type": "code",
   "execution_count": 10,
   "metadata": {},
   "outputs": [
    {
     "data": {
      "text/html": [
       "<div>\n",
       "<style scoped>\n",
       "    .dataframe tbody tr th:only-of-type {\n",
       "        vertical-align: middle;\n",
       "    }\n",
       "\n",
       "    .dataframe tbody tr th {\n",
       "        vertical-align: top;\n",
       "    }\n",
       "\n",
       "    .dataframe thead th {\n",
       "        text-align: right;\n",
       "    }\n",
       "</style>\n",
       "<table border=\"1\" class=\"dataframe\">\n",
       "  <thead>\n",
       "    <tr style=\"text-align: right;\">\n",
       "      <th></th>\n",
       "      <th>Model Name</th>\n",
       "      <th>R^2</th>\n",
       "      <th>MAE</th>\n",
       "      <th>MSE</th>\n",
       "      <th>RMSE</th>\n",
       "    </tr>\n",
       "  </thead>\n",
       "  <tbody>\n",
       "    <tr>\n",
       "      <th>0</th>\n",
       "      <td>Linear Regression</td>\n",
       "      <td>-1.725183e+12</td>\n",
       "      <td>151.180173</td>\n",
       "      <td>7.037678e+09</td>\n",
       "      <td>83890.867172</td>\n",
       "    </tr>\n",
       "    <tr>\n",
       "      <th>1</th>\n",
       "      <td>Decision Tree</td>\n",
       "      <td>9.783413e-01</td>\n",
       "      <td>0.005015</td>\n",
       "      <td>6.970696e-05</td>\n",
       "      <td>0.008349</td>\n",
       "    </tr>\n",
       "    <tr>\n",
       "      <th>2</th>\n",
       "      <td>Random Forest</td>\n",
       "      <td>9.855801e-01</td>\n",
       "      <td>0.004130</td>\n",
       "      <td>4.644308e-05</td>\n",
       "      <td>0.006815</td>\n",
       "    </tr>\n",
       "  </tbody>\n",
       "</table>\n",
       "</div>"
      ],
      "text/plain": [
       "          Model Name           R^2         MAE           MSE          RMSE\n",
       "0  Linear Regression -1.725183e+12  151.180173  7.037678e+09  83890.867172\n",
       "1      Decision Tree  9.783413e-01    0.005015  6.970696e-05      0.008349\n",
       "2      Random Forest  9.855801e-01    0.004130  4.644308e-05      0.006815"
      ]
     },
     "execution_count": 10,
     "metadata": {},
     "output_type": "execute_result"
    }
   ],
   "source": [
    "model_pred = pd.DataFrame()\n",
    "model_pred['Model Name'] = ['Linear Regression','Decision Tree','Random Forest']\n",
    "model_pred['R^2'] = [r_squared_lreg, r_squared_dtree, r_squared_rforest]\n",
    "model_pred['MAE'] = [mae_lreg, mae_dtree, mae_rforest]\n",
    "model_pred['MSE'] = [mse_lreg, mse_dtree, mse_rforest]\n",
    "model_pred['RMSE'] = [rmse_lreg, rmse_dtree, rmse_rforest]\n",
    "model_pred"
   ]
  },
  {
   "cell_type": "code",
   "execution_count": 11,
   "metadata": {},
   "outputs": [
    {
     "data": {
      "text/plain": [
       "<Figure size 3600x3600 with 0 Axes>"
      ]
     },
     "metadata": {},
     "output_type": "display_data"
    },
    {
     "data": {
      "image/png": "[encoded data removed]",
      "text/plain": [
       "<Figure size 432x288 with 1 Axes>"
      ]
     },
     "metadata": {
      "needs_background": "light"
     },
     "output_type": "display_data"
    }
   ],
   "source": [
    "# plot of feature importance\n",
    "plt.figure(figsize=(50,50))\n",
    "pd.DataFrame({'feature':x_train.columns, 'importance':rforest.feature_importances_}).sort_values('importance').set_index('feature').plot(kind='barh', fontsize=14)\n",
    "\n",
    "plt.title('Feature Importance', fontsize=14)\n",
    "plt.xlabel('Importance', fontsize=14)\n",
    "plt.ylabel('Feature', fontsize=14)\n",
    "plt.show()"
   ]
  },
  {
   "cell_type": "code",
   "execution_count": 12,
   "metadata": {},
   "outputs": [
    {
     "data": {
      "text/html": [
       "<div>\n",
       "<style scoped>\n",
       "    .dataframe tbody tr th:only-of-type {\n",
       "        vertical-align: middle;\n",
       "    }\n",
       "\n",
       "    .dataframe tbody tr th {\n",
       "        vertical-align: top;\n",
       "    }\n",
       "\n",
       "    .dataframe thead th {\n",
       "        text-align: right;\n",
       "    }\n",
       "</style>\n",
       "<table border=\"1\" class=\"dataframe\">\n",
       "  <thead>\n",
       "    <tr style=\"text-align: right;\">\n",
       "      <th></th>\n",
       "      <th>Pickup_longitude</th>\n",
       "      <th>Pickup_latitude</th>\n",
       "    </tr>\n",
       "  </thead>\n",
       "  <tbody>\n",
       "    <tr>\n",
       "      <th>0</th>\n",
       "      <td>-73.977067</td>\n",
       "      <td>40.688566</td>\n",
       "    </tr>\n",
       "    <tr>\n",
       "      <th>1</th>\n",
       "      <td>-73.954590</td>\n",
       "      <td>40.719590</td>\n",
       "    </tr>\n",
       "    <tr>\n",
       "      <th>2</th>\n",
       "      <td>-73.843120</td>\n",
       "      <td>40.784080</td>\n",
       "    </tr>\n",
       "    <tr>\n",
       "      <th>3</th>\n",
       "      <td>-73.846055</td>\n",
       "      <td>40.722370</td>\n",
       "    </tr>\n",
       "    <tr>\n",
       "      <th>4</th>\n",
       "      <td>-73.868535</td>\n",
       "      <td>40.761605</td>\n",
       "    </tr>\n",
       "  </tbody>\n",
       "</table>\n",
       "</div>"
      ],
      "text/plain": [
       "   Pickup_longitude  Pickup_latitude\n",
       "0        -73.977067        40.688566\n",
       "1        -73.954590        40.719590\n",
       "2        -73.843120        40.784080\n",
       "3        -73.846055        40.722370\n",
       "4        -73.868535        40.761605"
      ]
     },
     "execution_count": 12,
     "metadata": {},
     "output_type": "execute_result"
    }
   ],
   "source": [
    "# convert array to dataframe\n",
    "rforest_pred = pd.DataFrame(rforest_pred)\n",
    "rforest_pred.columns = ['Pickup_longitude','Pickup_latitude']\n",
    "\n",
    "# Convert long and lat values to numeric\n",
    "rforest_pred['Pickup_longitude'] = pd.to_numeric(rforest_pred['Pickup_longitude'], errors='coerce')\n",
    "rforest_pred['Pickup_latitude'] = pd.to_numeric(rforest_pred['Pickup_latitude'], errors='coerce')\n",
    "\n",
    "rforest_pred.head()"
   ]
  },
  {
   "cell_type": "code",
   "execution_count": 13,
   "metadata": {},
   "outputs": [],
   "source": [
    "# export pred data as csv\n",
    "rforest_pred.to_csv(\"H:/FHV Accessibility/Research Projects/A Look into High Volume For-Hire Vehicles Accessibility/Data/HVFHV Accessibility Predictive Coordinates.csv\")"
   ]
  }
 ],
 "metadata": {
  "kernelspec": {
   "display_name": "Python 3",
   "language": "python",
   "name": "python3"
  },
  "language_info": {
   "codemirror_mode": {
    "name": "ipython",
    "version": 3
   },
   "file_extension": ".py",
   "mimetype": "text/x-python",
   "name": "python",
   "nbconvert_exporter": "python",
   "pygments_lexer": "ipython3",
   "version": "3.7.3"
  }
 },
 "nbformat": 4,
 "nbformat_minor": 2
}
